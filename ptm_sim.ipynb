{
 "cells": [
  {
   "cell_type": "markdown",
   "id": "3e242026-5c71-46a4-b1b3-3fb7a359761b",
   "metadata": {},
   "source": [
    "# Post Translational Modification of a Protein - PROTOTYPE"
   ]
  },
  {
   "cell_type": "markdown",
   "id": "1e273cf3-d5d2-46bb-aa16-dd1eb71552f5",
   "metadata": {},
   "source": [
    "This notebook demonstrates Open Force Field's prototype workflow for simulating a post-translationally modified protein.\n",
    "\n",
    "We'd love to know your thoughts! Please submit feedback as an [issue] on the [`ptm_prototype` repository]\n",
    "\n",
    "[`ptm_prototype` repository]: https://github.com/openforcefield/ptm_prototype\n",
    "[issue]: https://github.com/openforcefield/ptm_prototype/issues/new\n",
    "\n",
    "### Outline\n",
    "\n",
    "1. Prepare a residue definition for the PTM residue\n",
    "2. Load a PDB file containing the PTM residue\n",
    "3. Solvate with the OpenFF PackMOL wrapper\n",
    "4. Parametrize the solvated system using a combination of the Sage and FF14sb force fields and the NAGL graph charge package\n",
    "5. Run a short simulation in OpenMM\n",
    "\n",
    "To achieve a high-quality protein simulation, we apply as many parameters as possible from the SMIRNOFF port of Amber ff14sb. This includes charges, LJ parameters, and valence parameters for the canonical amino acids and NME/ACE caps. As with all SMIRNOFF-format force fields, these are applied via direct chemical perception as specified by SMARTS substructures. The remaining atoms LJ and valence parameters are filled in from Sage, while charges come from NAGL. NAGL allows AM1BCC partial charges for the entire protein to be computed from a graph neural network without having to run a much more expensive QC calculation on such a large molecule."
   ]
  },
  {
   "cell_type": "markdown",
   "id": "bc2dfcd0-4b1a-485f-a0ed-5f352c68f7c7",
   "metadata": {},
   "source": [
    "We'll perform most of our imports ahead of time, but API points prepared for this prototype will be imported in the cells in which they're used so they stand out. These API points may eventually be shipped in OpenFF packages after we get feedback on them!"
   ]
  },
  {
   "cell_type": "code",
   "execution_count": null,
   "id": "2f4d4d84-b3cd-440c-8ce4-b418221bad9a",
   "metadata": {},
   "outputs": [],
   "source": [
    "import openmm\n",
    "from ipywidgets import Image\n",
    "from openff.interchange.components._packmol import (\n",
    "    RHOMBIC_DODECAHEDRON,\n",
    "    solvate_topology,\n",
    ")\n",
    "from openff.toolkit import ForceField, Molecule, Topology\n",
    "from openff.units import Quantity\n",
    "from rdkit.Chem import Draw\n",
    "from rdkit.Chem.rdChemReactions import ReactionFromSmarts"
   ]
  },
  {
   "cell_type": "markdown",
   "id": "d0abb935-c3a4-4d52-9365-5bb16bced235",
   "metadata": {},
   "source": [
    "## Prepare a residue definition for the PTM residue"
   ]
  },
  {
   "cell_type": "markdown",
   "id": "8f41fdd0-801f-4e8f-85bb-7c6ba44cca8b",
   "metadata": {},
   "source": [
    "The new Pablo PDB loader uses a unified [`ResidueDefinition`] dataclass to specify how to load a particular residue. Residues are loaded by matching atom names from the PDB file to the residue definitions defined for that residue name, and using the chemical information from the `ResidueDefinition` to determine the detailed chemical information needed to load an OpenFF Topology. Multiple residue definitions can be provided for a given residue name; if they disagree about how to assign chemical information to a particular residue in a PDB file, an error is raised. Residue definitions are provided to the PDB loader as a mapping from residue names to lists of residue definitions:\n",
    "\n",
    "```py\n",
    "residue_database: Mapping[str, list[ResidueDefinition]]\n",
    "```\n",
    "\n",
    "The default residue database used by Pablo is `CCD_RESIDUE_DEFINITION_CACHE`. This object presents the `Mapping` interface, and so residues can be read just like from a dictionary. Behind the scenes, the cache downloads and caches CIF files from the CCD, processes them into residue definitions, and patches them to improve compatibility with diverse PDB files. For example, we can take a look at the CCD's cysteine definition:\n",
    "\n",
    "[`ResidueDefinition`]: https://openff-pablo.readthedocs.io/en/latest/api/generated/openff.pablo.ResidueDefinition.html"
   ]
  },
  {
   "cell_type": "code",
   "execution_count": null,
   "id": "feb026fa-58a5-425f-b2cb-c46d59598895",
   "metadata": {},
   "outputs": [],
   "source": [
    "from openff.pablo import CCD_RESIDUE_DEFINITION_CACHE\n",
    "from ptm_prototype import draw_molecule\n",
    "\n",
    "cysteine = CCD_RESIDUE_DEFINITION_CACHE[\"CYS\"][0].to_openff_molecule()\n",
    "draw_molecule(\n",
    "    cysteine,\n",
    "    width=700,\n",
    "    height=600,\n",
    "    atom_notes={\n",
    "        i: (\n",
    "            f\"{i}:{'|'.join([atom.name, *atom.metadata.get('synonyms', '').split()])}\"\n",
    "            + f\"{'^' if bool(atom.metadata.get('leaving_atom')) else ''}\"\n",
    "        )\n",
    "        for i, atom in enumerate(cysteine.atoms)\n",
    "    },\n",
    ")"
   ]
  },
  {
   "cell_type": "markdown",
   "id": "a356e107-50f1-4243-a2e8-f7e5444222c5",
   "metadata": {},
   "source": [
    "Residue definitions support being written to and read from OpenFF `Molecule` objects so that they can be visualized and prepared with existing tools. In this depiction, each atom is labeled by its index in the molecule, the possible names it may have in a PDB file, and then finally a caret (\"^\") if it is absent when a bond is formed between this residue and another."
   ]
  },
  {
   "cell_type": "markdown",
   "id": "e93d2698-b9c1-4c74-8df1-ad04c143cdab",
   "metadata": {},
   "source": [
    "Our post-translationally modified protein contains a cysteine residue that has been labeled with a fluorescein maleimide dye. Labelling occurs in the lab via a synthetic thiol-maleimide \"click\" reaction that is specific to cysteine residues in proteins. To prepare the residue definition for the post-translationally modified residue, we will use the following SMARTS reaction to prepare the PTM residue from the maleimide and cysteine:"
   ]
  },
  {
   "cell_type": "code",
   "execution_count": null,
   "id": "66602f64-b5ae-44b5-9001-becfab19c39b",
   "metadata": {},
   "outputs": [],
   "source": [
    "thiol_maleimide_click_smarts = (\n",
    "    \"[C:10]-[S:1]-[H:2]\"\n",
    "    + \".\"\n",
    "    + \"[N:3]1-[C:4](=[O:5])-[C:6](-[H:11])=[C:7](-[H:12])-[C:8](=[O:9])-1\"\n",
    "    + \">>\"\n",
    "    + \"[N:3]1-[C:4](=[O:5])-[C:6](-[H:2])(-[H:11])-[C@:7](-[S:1]-[C:10])(-[H:12])-[C:8](=[O:9])-1\"\n",
    ")\n",
    "\n",
    "rxn = ReactionFromSmarts(thiol_maleimide_click_smarts)\n",
    "d2d = Draw.MolDraw2DCairo(800, 300)\n",
    "d2d.DrawReaction(\n",
    "    ReactionFromSmarts(thiol_maleimide_click_smarts), highlightByReactant=True\n",
    ")\n",
    "Image(value=d2d.GetDrawingText())"
   ]
  },
  {
   "cell_type": "markdown",
   "id": "ec01f6c9-8b0a-4baf-83ef-4e1f447d50aa",
   "metadata": {},
   "source": [
    "Next, we'll load the maleimide from an SDF file. This could come from any of the usual sources of an OpenFF `Molecule`, including an RDKit molecule object or SMILES string. We'll also generate atom names; these would be appropriate to use if you haven't already prepared the PDB file and have access to the atom names that will be written out, but to load an existing PDB file they'll have to be changed later."
   ]
  },
  {
   "cell_type": "code",
   "execution_count": null,
   "id": "80c7befe-dec6-40d6-9b1b-fd9b276eeb23",
   "metadata": {},
   "outputs": [],
   "source": [
    "maleimide = Molecule.from_file(\"maleimide.sdf\")\n",
    "maleimide.generate_unique_atom_names()\n",
    "\n",
    "draw_molecule(\n",
    "    maleimide,\n",
    "    width=700,\n",
    "    height=600,\n",
    "    atom_notes={\n",
    "        i: (\n",
    "            f\"{i}:{'|'.join([atom.name, *atom.metadata.get('synonyms', '').split()])}\"\n",
    "            + f\"{'^' if bool(atom.metadata.get('leaving_atom')) else ''}\"\n",
    "        )\n",
    "        for i, atom in enumerate(maleimide.atoms)\n",
    "    },\n",
    ")"
   ]
  },
  {
   "cell_type": "markdown",
   "id": "7dd7d0b7-fc76-43fb-8f8c-74ccf840608c",
   "metadata": {},
   "source": [
    "Now, we'll perform the reaction with the prototype `react()` function. `react()` takes a list of reactants and a reaction SMARTS and produces a list of the possible outcomes of the reaction, each represented by a list of product `Molecule` objects. For a single-product reaction that can only happen in a single way given the reactants, this is a single `Molecule` object wrapped in two lists."
   ]
  },
  {
   "cell_type": "code",
   "execution_count": null,
   "id": "9c979279-8de0-4866-a244-e489421f24a8",
   "metadata": {},
   "outputs": [],
   "source": [
    "from ptm_prototype import react\n",
    "\n",
    "products = list(react([cysteine, maleimide], thiol_maleimide_click_smarts))\n",
    "dye = products[0][0]\n",
    "\n",
    "\n",
    "draw_molecule(\n",
    "    dye,\n",
    "    width=700,\n",
    "    height=600,\n",
    "    atom_notes={\n",
    "        i: (\n",
    "            f\"{i}:{'|'.join([atom.name, *atom.metadata.get('synonyms', '').split()])}\"\n",
    "            + f\"{'^' if bool(atom.metadata.get('leaving_atom')) else ''}\"\n",
    "        )\n",
    "        for i, atom in enumerate(dye.atoms)\n",
    "    },\n",
    ")"
   ]
  },
  {
   "cell_type": "markdown",
   "id": "ddf8678b-c861-4411-9c5d-6794125b3507",
   "metadata": {},
   "source": [
    "Notice that the atom names (along with all other properties) of the reactants has been preserved; this is the main value-add of the `react()` function over using the RDKit SMARTS reaction machinery directly."
   ]
  },
  {
   "cell_type": "markdown",
   "id": "554e230d-c872-44fc-9976-d8b7a4b0512a",
   "metadata": {},
   "source": [
    "Atom names are tricky; we've generated atom names automatically, but they almost certainly won't match what you have in a PDB. You could:\n",
    "\n",
    "1. Modify the PDB to use the above atom names, or\n",
    "2. Modify the substructure atom names to match the PDB file, or\n",
    "3. Match based on connectivity rather than atom names. This requires CONECT records in the PDB, and is not yet supported by the new loader (coming soon!)"
   ]
  },
  {
   "cell_type": "code",
   "execution_count": null,
   "id": "b7fac7d0-0ca3-49ab-bbc8-d490182bcb71",
   "metadata": {},
   "outputs": [],
   "source": [
    "name_corrections = {\n",
    "    4: \"H3x\",\n",
    "    25: \"C9x\",\n",
    "    26: \"H4x\",\n",
    "    28: \"C8x\",\n",
    "    29: \"H6x\",\n",
    "    30: \"H5x\",\n",
    "    32: \"C10x\",\n",
    "    33: \"C11x\",\n",
    "    34: \"O2x\",\n",
    "    35: \"O3x\",\n",
    "    36: \"C23x\",\n",
    "    37: \"C12x\",\n",
    "    38: \"C22x\",\n",
    "    39: \"C18x\",\n",
    "    40: \"C13x\",\n",
    "    41: \"C17x\",\n",
    "    42: \"H14x\",\n",
    "    43: \"C21x\",\n",
    "    44: \"C19x\",\n",
    "    45: \"O5x\",\n",
    "    46: \"C14x\",\n",
    "    47: \"H7x\",\n",
    "    49: \"H13x\",\n",
    "    50: \"C20x\",\n",
    "    51: \"H11x\",\n",
    "    52: \"C15x\",\n",
    "    53: \"H8x\",\n",
    "    54: \"H10x\",\n",
    "    55: \"O6x\",\n",
    "}\n",
    "\n",
    "for i, name in name_corrections.items():\n",
    "    # assert dye.atom(i).name != name, f\"{i}:{name}=={dye.atom(i).name}\"\n",
    "    dye.atom(i).name = name\n",
    "\n",
    "draw_molecule(\n",
    "    dye,\n",
    "    width=700,\n",
    "    height=600,\n",
    "    atom_notes={\n",
    "        i: (\n",
    "            f\"{i}:{'|'.join([atom.name, *atom.metadata.get('synonyms', '').split()])}\"\n",
    "            + f\"{'^' if bool(atom.metadata.get('leaving_atom')) else ''}\"\n",
    "        )\n",
    "        for i, atom in enumerate(dye.atoms)\n",
    "    },\n",
    ")"
   ]
  },
  {
   "cell_type": "markdown",
   "id": "5d5cb45f-66b5-4cc8-a3c2-9001dcff2d43",
   "metadata": {},
   "source": [
    "Now that we've prepared the molecule we want to load, we need to make it into a `ResidueDefinition`. `ResidueDefinition` has many construction methods for preparation from various different kinds of information; we'd like to support many such methods, so if you have suggestions please [let us know!].\n",
    "\n",
    "[let us know!]:https://github.com/openforcefield/ptm_prototype/issues/new"
   ]
  },
  {
   "cell_type": "code",
   "execution_count": null,
   "id": "6cba7269-d4ee-46ca-b2c8-085f9cf4232b",
   "metadata": {},
   "outputs": [],
   "source": [
    "from openff.pablo import ResidueDefinition\n",
    "from openff.pablo.chem import PEPTIDE_BOND\n",
    "\n",
    "dye_resdef = ResidueDefinition.from_molecule(\n",
    "    molecule=dye,\n",
    "    residue_name=\"DYE\",\n",
    "    linking_bond=PEPTIDE_BOND,\n",
    ")"
   ]
  },
  {
   "cell_type": "markdown",
   "id": "998fe2c9-2614-43db-b065-eb6b22092bc3",
   "metadata": {},
   "source": [
    "The `linking_bond` argument, similar to the `crosslink_bond` argument not demonstrated here, specifies how bonds are formed between different residues. For common polymers, we intend to provide standard bonds in the `openff.pablo.chem` module, but you can also define your own; see the [`ResidueDefinition.linking_bond` documentation].\n",
    "\n",
    "[`ResidueDefinition.linking_bond` documentation]: https://openff-pablo.readthedocs.io/en/latest/api/generated/openff.pablo.ResidueDefinition.html#openff.pablo.ResidueDefinition.linking_bond"
   ]
  },
  {
   "cell_type": "markdown",
   "id": "34ea0192-82c4-4c52-bd6a-10dde7f994b3",
   "metadata": {},
   "source": [
    "## Load a PDB file containing the PTM residue"
   ]
  },
  {
   "cell_type": "markdown",
   "id": "3ee9a28c-3e3e-48d3-9e89-331571b62663",
   "metadata": {},
   "source": [
    "Now, we just load the PDB file using the CCD residue definition cache augmented with our new residue. Note that at the moment, this only matches based on atom names, but we will soon add support for connectivity-based matches. This means that at the moment, every atom name in the residue must match a synonym from the residue definition, but in the future we will be able to identify this residue from CONECT records as an alternative."
   ]
  },
  {
   "cell_type": "code",
   "execution_count": null,
   "id": "a07dff97-e518-4e7f-829b-8077359a5df0",
   "metadata": {},
   "outputs": [],
   "source": [
    "from openff.pablo import CCD_RESIDUE_DEFINITION_CACHE, topology_from_pdb\n",
    "\n",
    "topology = topology_from_pdb(\n",
    "    \"3ip9_dye.pdb\",\n",
    "    residue_database=CCD_RESIDUE_DEFINITION_CACHE.with_({\"DYE\": [dye_resdef]}),\n",
    ")"
   ]
  },
  {
   "cell_type": "markdown",
   "id": "e3a4aaf7-ac2a-43db-8522-084aa82a0cd5",
   "metadata": {},
   "source": [
    "We now have a standard OpenFF `Topology` object, which we can visualize with the familiar methods:"
   ]
  },
  {
   "cell_type": "code",
   "execution_count": null,
   "id": "0584f340-cedc-4e7e-b17a-ad1fcd6a87bb",
   "metadata": {},
   "outputs": [],
   "source": [
    "w = topology.visualize()\n",
    "w.clear_representations()\n",
    "w.add_cartoon()\n",
    "w.add_line(opacity=0.5, crossSize=1.0)\n",
    "w.add_licorice(\"DYE\", radius=0.3)\n",
    "w.add_unitcell()\n",
    "w.center(\"DYE\")\n",
    "w"
   ]
  },
  {
   "cell_type": "markdown",
   "id": "e995da0e-70f0-405a-842a-5eca03aae85b",
   "metadata": {},
   "source": [
    "Note that the new PDB loader is much faster than the existing implementation - and the difference is even more dramatic with solvated PDB files. If you'd prefer to be able to identify a custom residue by CONECT records rather than atom names, a residue definition can easily be converted to an OpenFF molecule appropriate for use with the existing `Topology.from_pdb()` method's experimental `_additional_substructures` argument:"
   ]
  },
  {
   "cell_type": "code",
   "execution_count": null,
   "id": "e0051014-1184-48e6-832e-e4be923c0c43",
   "metadata": {},
   "outputs": [],
   "source": [
    "substructure_mol = dye_resdef.to_openff_molecule()"
   ]
  },
  {
   "cell_type": "code",
   "execution_count": null,
   "id": "c06a2758-4fbe-46a4-88ad-d917cb1bb24c",
   "metadata": {},
   "outputs": [],
   "source": [
    "legacy_topology = Topology.from_pdb(\n",
    "    \"3ip9_dye.pdb\",\n",
    "    _additional_substructures=[substructure_mol],\n",
    ")"
   ]
  },
  {
   "cell_type": "code",
   "execution_count": null,
   "id": "7f61e3f4-0aa0-40e5-b2ac-3abe8e0e2496",
   "metadata": {},
   "outputs": [],
   "source": [
    "w = legacy_topology.visualize()\n",
    "w.clear_representations()\n",
    "w.add_cartoon()\n",
    "w.add_line(opacity=0.5, crossSize=1.0)\n",
    "w.add_licorice(\"DYE\", radius=0.3)\n",
    "w.add_unitcell()\n",
    "w.center(\"DYE\")\n",
    "w"
   ]
  },
  {
   "cell_type": "markdown",
   "id": "a02003df-eac8-40d5-9c90-c59ec9070217",
   "metadata": {
    "execution": {
     "iopub.execute_input": "2025-02-14T04:52:18.368842Z",
     "iopub.status.busy": "2025-02-14T04:52:18.368590Z",
     "iopub.status.idle": "2025-02-14T04:52:18.370583Z",
     "shell.execute_reply": "2025-02-14T04:52:18.370295Z",
     "shell.execute_reply.started": "2025-02-14T04:52:18.368827Z"
    }
   },
   "source": [
    "## Solvate with the OpenFF PackMOL wrapper"
   ]
  },
  {
   "cell_type": "markdown",
   "id": "a4a01094-22f9-49ae-97be-ccd3c0b426ac",
   "metadata": {},
   "source": [
    "Now that we have an OpenFF `Topology` of the post-translationally modified protein, we can solvate it in familiar ways. For example, with the `solvate_topology` function from the experimental Interchange PackMOL wrapper:"
   ]
  },
  {
   "cell_type": "code",
   "execution_count": null,
   "id": "30668c9d-5446-42be-abe6-6f1549ece8b0",
   "metadata": {},
   "outputs": [],
   "source": [
    "topology = solvate_topology(\n",
    "    topology,\n",
    "    nacl_conc=Quantity(0.1, \"mol/L\"),\n",
    "    padding=Quantity(1.2, \"nm\"),\n",
    "    box_shape=RHOMBIC_DODECAHEDRON,\n",
    ")"
   ]
  },
  {
   "cell_type": "code",
   "execution_count": null,
   "id": "1110b022-01d6-44c1-826a-9e423a7e4dbd",
   "metadata": {},
   "outputs": [],
   "source": [
    "w = topology.visualize()\n",
    "w.clear_representations()\n",
    "w.add_cartoon()\n",
    "w.add_line(opacity=0.5, crossSize=1.0)\n",
    "w.add_licorice(\"DYE\", radius=0.3)\n",
    "w.add_unitcell()\n",
    "w.center(\"DYE\")\n",
    "w"
   ]
  },
  {
   "cell_type": "markdown",
   "id": "a2364094-04af-4010-be6d-318d9fcf0d2a",
   "metadata": {
    "execution": {
     "iopub.execute_input": "2025-02-19T02:26:14.984669Z",
     "iopub.status.busy": "2025-02-19T02:26:14.984390Z",
     "iopub.status.idle": "2025-02-19T02:26:14.986621Z",
     "shell.execute_reply": "2025-02-19T02:26:14.986345Z",
     "shell.execute_reply.started": "2025-02-19T02:26:14.984659Z"
    }
   },
   "source": [
    "Note that this box requires NPT equilibration before production simulation."
   ]
  },
  {
   "cell_type": "markdown",
   "id": "2240a0e4-202e-4d6f-8e92-0fe18ad3a0f0",
   "metadata": {},
   "source": [
    "## Parametrize the solvated system using a combination of the Sage and FF14sb force fields and the NAGL graph charge package"
   ]
  },
  {
   "cell_type": "markdown",
   "id": "fc2412b9-a89f-45bf-9138-b4adab1dbca1",
   "metadata": {},
   "source": [
    "The final new component of the prototype is the \"swiss cheese\" parametrization method. This refers to applying library charges to the parts of the protein for which they are defined in the ff14sb force field, and \"filling in the holes\" with NAGL graph charges. This is a streamlined stopgap to a more natural direct parametrization to a future force field that supports both proteins and NAGL charges natively. Note that this produces a bit of a Frankenstein's monster of a parametrization; while NAGL charges are philosophically compatible with both Sage and Amber force fields, and Sage and Amber force fields are philosophically compatible with each other, the actual quality of the resulting simulations has never been rigorously tested and might hold some surprises! If you perform such testing, please [let us know!]\n",
    "\n",
    "This'll take a few minutes; graph charges are much faster than quantum chemical methods, but a protein is still a large molecule.\n",
    "\n",
    "[let us know!]:https://github.com/openforcefield/ptm_prototype/issues/new"
   ]
  },
  {
   "cell_type": "code",
   "execution_count": null,
   "id": "a7147074-08a0-451f-b923-fb9f136308ad",
   "metadata": {},
   "outputs": [],
   "source": [
    "from ptm_prototype import parametrize_with_nagl\n",
    "\n",
    "sage_ff14sb = ForceField(\"openff-2.2.1.offxml\", \"ff14sb_off_impropers_0.0.4.offxml\")\n",
    "\n",
    "interchange = parametrize_with_nagl(force_field=sage_ff14sb, topology=topology)"
   ]
  },
  {
   "cell_type": "markdown",
   "id": "7ba93fef-af5b-4048-a197-334cadb4cff4",
   "metadata": {},
   "source": [
    "## Run a short simulation in OpenMM"
   ]
  },
  {
   "cell_type": "markdown",
   "id": "9da247bf-c995-4d8b-9f82-e013c3e702cb",
   "metadata": {},
   "source": [
    "Now that we have an Interchange, we can prepare simulations in any of the usual output engines. Here we'll use OpenMM. We'll also save a copy of the system to disk so we have an exact record of what we simulated. We're not aiming to tell you how to run a simulation here, just demonstrate what we can do; you'll need much more substantial equilibration to clean up the PackMOL box."
   ]
  },
  {
   "cell_type": "code",
   "execution_count": null,
   "id": "30e61d51-05d4-45f0-9264-36a85bb38023",
   "metadata": {},
   "outputs": [],
   "source": [
    "from ptm_prototype import get_openmm_total_charge\n",
    "\n",
    "temperature = 300 * openmm.unit.kelvin\n",
    "pressure = 1 * openmm.unit.bar\n",
    "\n",
    "timestep = 2 * openmm.unit.femtosecond\n",
    "friction_coeff = 1 / openmm.unit.picosecond\n",
    "barostat_frequency = 25\n",
    "\n",
    "print(\"making OpenMM simulation ...\")\n",
    "simulation = interchange.to_openmm_simulation(\n",
    "    integrator=openmm.LangevinMiddleIntegrator(\n",
    "        temperature,\n",
    "        friction_coeff,\n",
    "        timestep,\n",
    "    ),\n",
    "    additional_forces=[\n",
    "        openmm.MonteCarloBarostat(\n",
    "            pressure,\n",
    "            temperature,\n",
    "            barostat_frequency,\n",
    "        ),\n",
    "    ],\n",
    ")\n",
    "\n",
    "dcd_reporter = openmm.app.DCDReporter(\"trajectory.dcd\", 100)\n",
    "simulation.reporters.append(dcd_reporter)\n",
    "\n",
    "print(f\"total system charge is {get_openmm_total_charge(simulation.system)}\")\n",
    "\n",
    "print(\"serializing OpenMM system ...\")\n",
    "with open(\"system.xml\", \"w\") as f:\n",
    "    f.write(openmm.XmlSerializer.serialize(simulation.system))"
   ]
  },
  {
   "cell_type": "markdown",
   "id": "c9ef5e9c-9580-4795-aa10-26f41ab74d53",
   "metadata": {},
   "source": [
    "Minimize the energy:"
   ]
  },
  {
   "cell_type": "code",
   "execution_count": null,
   "id": "94606466-eee0-401f-bcf8-919bff0e7128",
   "metadata": {},
   "outputs": [],
   "source": [
    "simulation.context.computeVirtualSites()\n",
    "simulation.minimizeEnergy()\n",
    "simulation.context.setVelocitiesToTemperature(simulation.integrator.getTemperature())"
   ]
  },
  {
   "cell_type": "markdown",
   "id": "7851e931-03e5-4e4a-a15c-62a255d01aee",
   "metadata": {},
   "source": [
    "Run the simulation for a minute of wall time:"
   ]
  },
  {
   "cell_type": "code",
   "execution_count": null,
   "id": "03c8d566-075b-444b-83fb-2b07ff949631",
   "metadata": {},
   "outputs": [],
   "source": [
    "simulation.runForClockTime(1.0 * openmm.unit.minute)"
   ]
  },
  {
   "cell_type": "markdown",
   "id": "03c1a65e-cd9a-461b-a517-29a4fe51f8e5",
   "metadata": {},
   "source": [
    "Finally, visualize the resulting trajectory in NGLView!"
   ]
  },
  {
   "cell_type": "code",
   "execution_count": null,
   "id": "b8ed927d-55be-4440-99bb-09ad94db4f1f",
   "metadata": {},
   "outputs": [],
   "source": [
    "from ptm_prototype import nglview_show_openmm\n",
    "\n",
    "w = nglview_show_openmm(simulation.topology, \"trajectory.dcd\")\n",
    "w.add_licorice(\"DYE\", radius=0.3)\n",
    "w.center(\"DYE\")\n",
    "w"
   ]
  },
  {
   "cell_type": "code",
   "execution_count": null,
   "id": "41374c77-0982-483a-a032-2bff9c6577f7",
   "metadata": {},
   "outputs": [],
   "source": []
  }
 ],
 "metadata": {
  "kernelspec": {
   "display_name": "Python 3 (ipykernel)",
   "language": "python",
   "name": "python3"
  },
  "language_info": {
   "codemirror_mode": {
    "name": "ipython",
    "version": 3
   },
   "file_extension": ".py",
   "mimetype": "text/x-python",
   "name": "python",
   "nbconvert_exporter": "python",
   "pygments_lexer": "ipython3",
   "version": "3.12.9"
  },
  "widgets": {
   "application/vnd.jupyter.widget-state+json": {
    "state": {},
    "version_major": 2,
    "version_minor": 0
   }
  }
 },
 "nbformat": 4,
 "nbformat_minor": 5
}
