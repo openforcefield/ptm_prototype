{
 "cells": [
  {
   "cell_type": "code",
   "execution_count": null,
   "id": "2f4d4d84-b3cd-440c-8ce4-b418221bad9a",
   "metadata": {},
   "outputs": [],
   "source": [
    "import openmm\n",
    "from ipywidgets import Image\n",
    "from openff.interchange.components._packmol import (\n",
    "    RHOMBIC_DODECAHEDRON,\n",
    "    solvate_topology,\n",
    ")\n",
    "from openff.toolkit import ForceField, Molecule, Topology\n",
    "from openff.units import Quantity\n",
    "from rdkit.Chem import Draw\n",
    "from rdkit.Chem.rdChemReactions import ReactionFromSmarts"
   ]
  },
  {
   "cell_type": "code",
   "execution_count": null,
   "id": "feb026fa-58a5-425f-b2cb-c46d59598895",
   "metadata": {},
   "outputs": [],
   "source": [
    "from openff.pablo import CCD_RESIDUE_DEFINITION_CACHE\n",
    "from ptm_prototype import draw_molecule\n",
    "\n",
    "cysteine = CCD_RESIDUE_DEFINITION_CACHE[\"CYS\"][0].to_openff_molecule()\n",
    "draw_molecule(\n",
    "    cysteine,\n",
    "    width=700,\n",
    "    height=600,\n",
    "    atom_notes={\n",
    "        i: (\n",
    "            f\"{i}:{atom.name}\"\n",
    "            + f\"{'^' if bool(atom.metadata.get('leaving_atom')) else ''}\"\n",
    "        )\n",
    "        for i, atom in enumerate(cysteine.atoms)\n",
    "    },\n",
    ")"
   ]
  },
  {
   "cell_type": "code",
   "execution_count": null,
   "id": "80c7befe-dec6-40d6-9b1b-fd9b276eeb23",
   "metadata": {},
   "outputs": [],
   "source": [
    "maleimide = Molecule.from_file(\"maleimide.sdf\")\n",
    "maleimide.generate_unique_atom_names()\n",
    "\n",
    "draw_molecule(\n",
    "    maleimide,\n",
    "    width=700,\n",
    "    height=600,\n",
    "    atom_notes={\n",
    "        i: (\n",
    "            f\"{i}:{atom.name}\"\n",
    "            + f\"{'^' if bool(atom.metadata.get('leaving_atom')) else ''}\"\n",
    "        )\n",
    "        for i, atom in enumerate(maleimide.atoms)\n",
    "    },\n",
    ")"
   ]
  },
  {
   "cell_type": "code",
   "execution_count": null,
   "id": "66602f64-b5ae-44b5-9001-becfab19c39b",
   "metadata": {},
   "outputs": [],
   "source": [
    "thiol_maleimide_click_smarts = (\n",
    "    \"[C:10]-[S:1]-[H:2]\"\n",
    "    + \".\"\n",
    "    + \"[N:3]1-[C:4](=[O:5])-[C:6](-[H:11])=[C:7](-[H:12])-[C:8](=[O:9])-1\"\n",
    "    + \">>\"\n",
    "    + \"[N:3]1-[C:4](=[O:5])-[C:6](-[H:2])(-[H:11])-[C@:7](-[S:1]-[C:10])(-[H:12])-[C:8](=[O:9])-1\"\n",
    ")\n",
    "\n",
    "rxn = ReactionFromSmarts(thiol_maleimide_click_smarts)\n",
    "d2d = Draw.MolDraw2DCairo(800, 300)\n",
    "d2d.DrawReaction(\n",
    "    ReactionFromSmarts(thiol_maleimide_click_smarts), highlightByReactant=True\n",
    ")\n",
    "Image(value=d2d.GetDrawingText())"
   ]
  },
  {
   "cell_type": "code",
   "execution_count": null,
   "id": "9c979279-8de0-4866-a244-e489421f24a8",
   "metadata": {},
   "outputs": [],
   "source": [
    "from ptm_prototype import react\n",
    "\n",
    "products = list(react([cysteine, maleimide], thiol_maleimide_click_smarts))\n",
    "dye = products[0][0]\n",
    "\n",
    "\n",
    "draw_molecule(\n",
    "    dye,\n",
    "    width=700,\n",
    "    height=600,\n",
    "    atom_notes={\n",
    "        i: (\n",
    "            f\"{i}:{atom.name}\"\n",
    "            + f\"{'^' if bool(atom.metadata.get('leaving_atom')) else ''}\"\n",
    "        )\n",
    "        for i, atom in enumerate(dye.atoms)\n",
    "    },\n",
    ")"
   ]
  },
  {
   "cell_type": "markdown",
   "id": "554e230d-c872-44fc-9976-d8b7a4b0512a",
   "metadata": {},
   "source": [
    "Atom names are tricky; we've generated atom names automatically, but they almost certainly won't match what you have in a PDB. You could:\n",
    "\n",
    "1. Modify the PDB to use the above atom names, or\n",
    "2. Modify the substructure atom names to match the PDB file, or\n",
    "3. Match based on connectivity rather than atom names. This requires CONECT records in the PDB, and is not yet supported by the new loader (coming soon!)"
   ]
  },
  {
   "cell_type": "code",
   "execution_count": null,
   "id": "b7fac7d0-0ca3-49ab-bbc8-d490182bcb71",
   "metadata": {},
   "outputs": [],
   "source": [
    "name_corrections = {\n",
    "    4: \"H3x\",\n",
    "    25: \"C9x\",\n",
    "    26: \"H4x\",\n",
    "    28: \"C8x\",\n",
    "    29: \"H6x\",\n",
    "    30: \"H5x\",\n",
    "    32: \"C10x\",\n",
    "    33: \"C11x\",\n",
    "    34: \"O2x\",\n",
    "    35: \"O3x\",\n",
    "    36: \"C23x\",\n",
    "    37: \"C12x\",\n",
    "    38: \"C22x\",\n",
    "    39: \"C18x\",\n",
    "    40: \"C13x\",\n",
    "    41: \"C17x\",\n",
    "    42: \"H14x\",\n",
    "    43: \"C21x\",\n",
    "    44: \"C19x\",\n",
    "    45: \"O5x\",\n",
    "    46: \"C14x\",\n",
    "    47: \"H7x\",\n",
    "    49: \"H13x\",\n",
    "    50: \"C20x\",\n",
    "    51: \"H11x\",\n",
    "    52: \"C15x\",\n",
    "    53: \"H8x\",\n",
    "    54: \"H10x\",\n",
    "    55: \"O6x\",\n",
    "}\n",
    "\n",
    "for i, name in name_corrections.items():\n",
    "    # assert dye.atom(i).name != name, f\"{i}:{name}=={dye.atom(i).name}\"\n",
    "    dye.atom(i).name = name\n",
    "\n",
    "draw_molecule(\n",
    "    dye,\n",
    "    width=700,\n",
    "    height=600,\n",
    "    atom_notes={\n",
    "        i: (\n",
    "            f\"{i}:{atom.name}\"\n",
    "            + f\"{'^' if bool(atom.metadata.get('leaving_atom')) else ''}\"\n",
    "        )\n",
    "        for i, atom in enumerate(dye.atoms)\n",
    "    },\n",
    ")"
   ]
  },
  {
   "cell_type": "code",
   "execution_count": null,
   "id": "6cba7269-d4ee-46ca-b2c8-085f9cf4232b",
   "metadata": {},
   "outputs": [],
   "source": [
    "from openff.pablo import ResidueDefinition\n",
    "from openff.pablo.chem import PEPTIDE_BOND\n",
    "\n",
    "dye_resdef = ResidueDefinition.from_molecule(\n",
    "    molecule=dye,\n",
    "    residue_name=\"DYE\",\n",
    "    linking_bond=PEPTIDE_BOND,\n",
    ")"
   ]
  },
  {
   "cell_type": "code",
   "execution_count": null,
   "id": "a07dff97-e518-4e7f-829b-8077359a5df0",
   "metadata": {},
   "outputs": [],
   "source": [
    "from openff.pablo import CCD_RESIDUE_DEFINITION_CACHE, topology_from_pdb\n",
    "\n",
    "topology = topology_from_pdb(\n",
    "    \"3ip9_dye.pdb\",\n",
    "    residue_database=CCD_RESIDUE_DEFINITION_CACHE.with_({\"DYE\": [dye_resdef]}),\n",
    ")"
   ]
  },
  {
   "cell_type": "code",
   "execution_count": null,
   "id": "0584f340-cedc-4e7e-b17a-ad1fcd6a87bb",
   "metadata": {},
   "outputs": [],
   "source": [
    "w = topology.visualize()\n",
    "w.clear_representations()\n",
    "w.add_cartoon()\n",
    "w.add_line(opacity=0.5, crossSize=1.0)\n",
    "w.add_licorice(\"DYE\", radius=0.3)\n",
    "w.add_unitcell()\n",
    "w.center(\"DYE\")\n",
    "w"
   ]
  },
  {
   "cell_type": "markdown",
   "id": "e995da0e-70f0-405a-842a-5eca03aae85b",
   "metadata": {},
   "source": [
    "This is much faster than the existing implementation - and the difference is even more dramatic with solvated PDB files:"
   ]
  },
  {
   "cell_type": "code",
   "execution_count": null,
   "id": "e0051014-1184-48e6-832e-e4be923c0c43",
   "metadata": {},
   "outputs": [],
   "source": [
    "substructure_mol = dye_resdef.to_openff_molecule()"
   ]
  },
  {
   "cell_type": "code",
   "execution_count": null,
   "id": "c06a2758-4fbe-46a4-88ad-d917cb1bb24c",
   "metadata": {},
   "outputs": [],
   "source": [
    "legacy_topology = Topology.from_pdb(\n",
    "    \"3ip9_dye.pdb\",\n",
    "    _additional_substructures=[substructure_mol],\n",
    ")"
   ]
  },
  {
   "cell_type": "code",
   "execution_count": null,
   "id": "7f61e3f4-0aa0-40e5-b2ac-3abe8e0e2496",
   "metadata": {},
   "outputs": [],
   "source": [
    "w = legacy_topology.visualize()\n",
    "w.clear_representations()\n",
    "w.add_cartoon()\n",
    "w.add_line(opacity=0.5, crossSize=1.0)\n",
    "w.add_licorice(\"DYE\", radius=0.3)\n",
    "w.add_unitcell()\n",
    "w.center(\"DYE\")\n",
    "w"
   ]
  },
  {
   "cell_type": "markdown",
   "id": "a02003df-eac8-40d5-9c90-c59ec9070217",
   "metadata": {
    "execution": {
     "iopub.execute_input": "2025-02-14T04:52:18.368842Z",
     "iopub.status.busy": "2025-02-14T04:52:18.368590Z",
     "iopub.status.idle": "2025-02-14T04:52:18.370583Z",
     "shell.execute_reply": "2025-02-14T04:52:18.370295Z",
     "shell.execute_reply.started": "2025-02-14T04:52:18.368827Z"
    }
   },
   "source": [
    "## Solvation"
   ]
  },
  {
   "cell_type": "code",
   "execution_count": null,
   "id": "30668c9d-5446-42be-abe6-6f1549ece8b0",
   "metadata": {},
   "outputs": [],
   "source": [
    "topology = solvate_topology(\n",
    "    topology,\n",
    "    nacl_conc=Quantity(0.1, \"mol/L\"),\n",
    "    padding=Quantity(1.2, \"nm\"),\n",
    "    box_shape=RHOMBIC_DODECAHEDRON,\n",
    ")"
   ]
  },
  {
   "cell_type": "code",
   "execution_count": null,
   "id": "1110b022-01d6-44c1-826a-9e423a7e4dbd",
   "metadata": {},
   "outputs": [],
   "source": [
    "w = topology.visualize()\n",
    "w.clear_representations()\n",
    "w.add_cartoon()\n",
    "w.add_line(opacity=0.5, crossSize=1.0)\n",
    "w.add_licorice(\"DYE\", radius=0.3)\n",
    "w.add_unitcell()\n",
    "w.center(\"DYE\")\n",
    "w"
   ]
  },
  {
   "cell_type": "markdown",
   "id": "2240a0e4-202e-4d6f-8e92-0fe18ad3a0f0",
   "metadata": {},
   "source": [
    "## Assigning parameters"
   ]
  },
  {
   "cell_type": "code",
   "execution_count": null,
   "id": "a7147074-08a0-451f-b923-fb9f136308ad",
   "metadata": {},
   "outputs": [],
   "source": [
    "from ptm_prototype import parametrize_with_nagl\n",
    "\n",
    "sage_ff14sb = ForceField(\"openff-2.2.1.offxml\", \"ff14sb_off_impropers_0.0.4.offxml\")\n",
    "\n",
    "interchange = parametrize_with_nagl(force_field=sage_ff14sb, topology=topology)"
   ]
  },
  {
   "cell_type": "code",
   "execution_count": null,
   "id": "30e61d51-05d4-45f0-9264-36a85bb38023",
   "metadata": {},
   "outputs": [],
   "source": [
    "from ptm_prototype import get_openmm_total_charge\n",
    "\n",
    "temperature = 300 * openmm.unit.kelvin\n",
    "pressure = 1 * openmm.unit.bar\n",
    "\n",
    "timestep = 2 * openmm.unit.femtosecond\n",
    "friction_coeff = 1 / openmm.unit.picosecond\n",
    "barostat_frequency = 25\n",
    "\n",
    "print(\"making OpenMM simulation ...\")\n",
    "simulation = interchange.to_openmm_simulation(\n",
    "    integrator=openmm.LangevinMiddleIntegrator(\n",
    "        temperature,\n",
    "        friction_coeff,\n",
    "        timestep,\n",
    "    ),\n",
    "    additional_forces=[\n",
    "        openmm.MonteCarloBarostat(\n",
    "            pressure,\n",
    "            temperature,\n",
    "            barostat_frequency,\n",
    "        ),\n",
    "    ],\n",
    ")\n",
    "\n",
    "print(f\"total system charge is {get_openmm_total_charge(simulation.system)}\")\n",
    "\n",
    "print(\"serializing OpenMM system ...\")\n",
    "with open(\"system.xml\", \"w\") as f:\n",
    "    f.write(openmm.XmlSerializer.serialize(simulation.system))"
   ]
  },
  {
   "cell_type": "code",
   "execution_count": null,
   "id": "94606466-eee0-401f-bcf8-919bff0e7128",
   "metadata": {},
   "outputs": [],
   "source": [
    "dcd_reporter = openmm.app.DCDReporter(\"trajectory.dcd\", 100)\n",
    "simulation.reporters.append(dcd_reporter)\n",
    "\n",
    "simulation.context.computeVirtualSites()\n",
    "simulation.minimizeEnergy()\n",
    "simulation.context.setVelocitiesToTemperature(simulation.integrator.getTemperature())"
   ]
  },
  {
   "cell_type": "code",
   "execution_count": null,
   "id": "03c8d566-075b-444b-83fb-2b07ff949631",
   "metadata": {},
   "outputs": [],
   "source": [
    "simulation.runForClockTime(1.0 * openmm.unit.minute)"
   ]
  },
  {
   "cell_type": "code",
   "execution_count": null,
   "id": "b8ed927d-55be-4440-99bb-09ad94db4f1f",
   "metadata": {},
   "outputs": [],
   "source": [
    "from ptm_prototype import nglview_show_openmm\n",
    "\n",
    "w = nglview_show_openmm(simulation.topology, \"trajectory.dcd\")\n",
    "w.add_licorice(\"DYE\", radius=0.3)\n",
    "w.center(\"DYE\")\n",
    "w"
   ]
  },
  {
   "cell_type": "code",
   "execution_count": null,
   "id": "10cdc08b-9479-48b7-8f7b-add517d05636",
   "metadata": {},
   "outputs": [],
   "source": [
    "# TODO: Test in vanilla `openff-toolkit-examples` environment"
   ]
  }
 ],
 "metadata": {
  "kernelspec": {
   "display_name": "Python 3 (ipykernel)",
   "language": "python",
   "name": "python3"
  },
  "language_info": {
   "codemirror_mode": {
    "name": "ipython",
    "version": 3
   },
   "file_extension": ".py",
   "mimetype": "text/x-python",
   "name": "python",
   "nbconvert_exporter": "python",
   "pygments_lexer": "ipython3",
   "version": "3.12.9"
  },
  "widgets": {
   "application/vnd.jupyter.widget-state+json": {
    "state": {},
    "version_major": 2,
    "version_minor": 0
   }
  }
 },
 "nbformat": 4,
 "nbformat_minor": 5
}
